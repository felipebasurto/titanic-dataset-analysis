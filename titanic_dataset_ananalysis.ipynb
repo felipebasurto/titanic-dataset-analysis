{
 "cells": [
  {
   "cell_type": "markdown",
   "id": "OxRpr1Ao81f7",
   "metadata": {
    "id": "OxRpr1Ao81f7",
    "slideshow": {
     "slide_type": "slide"
    }
   },
   "source": [
    "# **Group 7 - Python Project - IE SCHOOL OF SCIENCE AND TECHNOLOGY** \n"
   ]
  },
  {
   "cell_type": "markdown",
   "id": "5a03130e-88ac-4502-8aa9-34157cf4d596",
   "metadata": {
    "slideshow": {
     "slide_type": "skip"
    },
    "tags": []
   },
   "source": [
    "## Table of Contents\n",
    "* [Question 1](#question1)\n",
    "* [Question 2](#question2)\n",
    "* [Question 3](#question3)\n",
    "* [Question 4](#question4)\n",
    "* [Question 5](#question5)\n",
    "* [Question 6](#question6)\n",
    "    * [Insight 1](#insight1)\n",
    "    * [Insight 2](#insight2)\n",
    "    * [Insight 3](#insight3)\n",
    "* [Question 7](#question7)\n",
    "    * [Strategy 1](#strategy1)\n",
    "    * [Strategy 2](#strategy2)"
   ]
  },
  {
   "cell_type": "markdown",
   "id": "yLkXWxWI9Q9e",
   "metadata": {
    "id": "yLkXWxWI9Q9e",
    "slideshow": {
     "slide_type": "skip"
    }
   },
   "source": [
    "## **Import libraries and explore data**\n",
    "In this project we are going to explore the Titanic.csv. To start with, we import the libraries we are going to work during this project."
   ]
  },
  {
   "cell_type": "code",
   "execution_count": 1,
   "id": "e6d16e19-ed18-4f84-9962-1a3a69ee608a",
   "metadata": {
    "id": "e6d16e19-ed18-4f84-9962-1a3a69ee608a",
    "slideshow": {
     "slide_type": "skip"
    }
   },
   "outputs": [],
   "source": [
    "# Importing libraries\n",
    "\n",
    "import pandas as pd\n",
    "import matplotlib.pyplot as plt\n",
    "import seaborn as sns\n",
    "\n",
    "pd.options.mode.chained_assignment = None"
   ]
  },
  {
   "cell_type": "code",
   "execution_count": 2,
   "id": "0b439514-9b22-48a7-8feb-d2413a4d6ca5",
   "metadata": {
    "colab": {
     "base_uri": "https://localhost:8080/",
     "height": 206
    },
    "id": "0b439514-9b22-48a7-8feb-d2413a4d6ca5",
    "outputId": "35e4e973-9d9c-464d-f61a-8e15defe522e",
    "slideshow": {
     "slide_type": "skip"
    }
   },
   "outputs": [
    {
     "data": {
      "text/html": [
       "<div>\n",
       "<style scoped>\n",
       "    .dataframe tbody tr th:only-of-type {\n",
       "        vertical-align: middle;\n",
       "    }\n",
       "\n",
       "    .dataframe tbody tr th {\n",
       "        vertical-align: top;\n",
       "    }\n",
       "\n",
       "    .dataframe thead th {\n",
       "        text-align: right;\n",
       "    }\n",
       "</style>\n",
       "<table border=\"1\" class=\"dataframe\">\n",
       "  <thead>\n",
       "    <tr style=\"text-align: right;\">\n",
       "      <th></th>\n",
       "      <th>PassengerId</th>\n",
       "      <th>Survived</th>\n",
       "      <th>Pclass</th>\n",
       "      <th>Name</th>\n",
       "      <th>Sex</th>\n",
       "      <th>Age</th>\n",
       "      <th>SibSp</th>\n",
       "      <th>Parch</th>\n",
       "      <th>Ticket</th>\n",
       "      <th>Fare</th>\n",
       "      <th>Cabin</th>\n",
       "      <th>Embarked</th>\n",
       "    </tr>\n",
       "  </thead>\n",
       "  <tbody>\n",
       "    <tr>\n",
       "      <th>0</th>\n",
       "      <td>1</td>\n",
       "      <td>0</td>\n",
       "      <td>3</td>\n",
       "      <td>Mr. Owen Harris</td>\n",
       "      <td>male</td>\n",
       "      <td>22.0</td>\n",
       "      <td>1</td>\n",
       "      <td>0</td>\n",
       "      <td>A/5 21171</td>\n",
       "      <td>7.2500</td>\n",
       "      <td>NaN</td>\n",
       "      <td>S</td>\n",
       "    </tr>\n",
       "    <tr>\n",
       "      <th>1</th>\n",
       "      <td>2</td>\n",
       "      <td>1</td>\n",
       "      <td>1</td>\n",
       "      <td>Mrs. John Bradley (Florence Briggs Thayer)</td>\n",
       "      <td>female</td>\n",
       "      <td>38.0</td>\n",
       "      <td>1</td>\n",
       "      <td>0</td>\n",
       "      <td>PC 17599</td>\n",
       "      <td>71.2833</td>\n",
       "      <td>C85</td>\n",
       "      <td>C</td>\n",
       "    </tr>\n",
       "    <tr>\n",
       "      <th>2</th>\n",
       "      <td>3</td>\n",
       "      <td>1</td>\n",
       "      <td>3</td>\n",
       "      <td>Miss. Laina</td>\n",
       "      <td>female</td>\n",
       "      <td>26.0</td>\n",
       "      <td>0</td>\n",
       "      <td>0</td>\n",
       "      <td>STON/O2. 3101282</td>\n",
       "      <td>7.9250</td>\n",
       "      <td>NaN</td>\n",
       "      <td>S</td>\n",
       "    </tr>\n",
       "    <tr>\n",
       "      <th>3</th>\n",
       "      <td>4</td>\n",
       "      <td>1</td>\n",
       "      <td>1</td>\n",
       "      <td>Mrs. Jacques Heath (Lily May Peel)</td>\n",
       "      <td>female</td>\n",
       "      <td>35.0</td>\n",
       "      <td>1</td>\n",
       "      <td>0</td>\n",
       "      <td>113803</td>\n",
       "      <td>53.1000</td>\n",
       "      <td>C123</td>\n",
       "      <td>S</td>\n",
       "    </tr>\n",
       "    <tr>\n",
       "      <th>4</th>\n",
       "      <td>5</td>\n",
       "      <td>0</td>\n",
       "      <td>3</td>\n",
       "      <td>Mr. William Henry</td>\n",
       "      <td>male</td>\n",
       "      <td>35.0</td>\n",
       "      <td>0</td>\n",
       "      <td>0</td>\n",
       "      <td>373450</td>\n",
       "      <td>8.0500</td>\n",
       "      <td>NaN</td>\n",
       "      <td>S</td>\n",
       "    </tr>\n",
       "  </tbody>\n",
       "</table>\n",
       "</div>"
      ],
      "text/plain": [
       "   PassengerId  Survived  Pclass                                        Name  \\\n",
       "0            1         0       3                             Mr. Owen Harris   \n",
       "1            2         1       1  Mrs. John Bradley (Florence Briggs Thayer)   \n",
       "2            3         1       3                                 Miss. Laina   \n",
       "3            4         1       1          Mrs. Jacques Heath (Lily May Peel)   \n",
       "4            5         0       3                           Mr. William Henry   \n",
       "\n",
       "      Sex   Age  SibSp  Parch            Ticket     Fare Cabin Embarked  \n",
       "0    male  22.0      1      0         A/5 21171   7.2500   NaN        S  \n",
       "1  female  38.0      1      0          PC 17599  71.2833   C85        C  \n",
       "2  female  26.0      0      0  STON/O2. 3101282   7.9250   NaN        S  \n",
       "3  female  35.0      1      0            113803  53.1000  C123        S  \n",
       "4    male  35.0      0      0            373450   8.0500   NaN        S  "
      ]
     },
     "execution_count": 2,
     "metadata": {},
     "output_type": "execute_result"
    }
   ],
   "source": [
    "# Reading the csv file into a df\n",
    "\n",
    "df = pd.read_csv(\"titanic.csv\")\n",
    "df.head()"
   ]
  },
  {
   "cell_type": "code",
   "execution_count": 3,
   "id": "Rs5-hk8SDDw7",
   "metadata": {
    "colab": {
     "base_uri": "https://localhost:8080/"
    },
    "id": "Rs5-hk8SDDw7",
    "outputId": "9f5e42e5-ae1e-4ddb-ddc9-7f4a44c3e4ff",
    "slideshow": {
     "slide_type": "skip"
    }
   },
   "outputs": [
    {
     "data": {
      "text/plain": [
       "PassengerId    False\n",
       "Survived       False\n",
       "Pclass         False\n",
       "Name           False\n",
       "Sex            False\n",
       "Age             True\n",
       "SibSp          False\n",
       "Parch          False\n",
       "Ticket         False\n",
       "Fare           False\n",
       "Cabin           True\n",
       "Embarked        True\n",
       "dtype: bool"
      ]
     },
     "execution_count": 3,
     "metadata": {},
     "output_type": "execute_result"
    }
   ],
   "source": [
    "# Exploring data to find out if we have columns with missing values\n",
    "\n",
    "df.isnull().any()"
   ]
  },
  {
   "cell_type": "markdown",
   "id": "08e67c02-4d1c-4cb4-98b0-a119d661bc06",
   "metadata": {
    "id": "08e67c02-4d1c-4cb4-98b0-a119d661bc06"
   },
   "source": [
    "----------------------------------------"
   ]
  },
  {
   "cell_type": "markdown",
   "id": "6fab55c3-6232-44d9-b133-35794515f19a",
   "metadata": {
    "id": "6fab55c3-6232-44d9-b133-35794515f19a",
    "slideshow": {
     "slide_type": "skip"
    }
   },
   "source": [
    "## Question 1 <a class=\"anchor\" id=\"question1\"></a>\n",
    "\n",
    "Read the dataset correctly using pandas, using an appropriate column as index. What is the PassengerId of \"Mr. Robert William Norman\"?"
   ]
  },
  {
   "cell_type": "code",
   "execution_count": 4,
   "id": "5KTByN5s6QXw",
   "metadata": {
    "colab": {
     "base_uri": "https://localhost:8080/",
     "height": 81
    },
    "id": "5KTByN5s6QXw",
    "outputId": "ad870672-5eec-46ef-8fa0-1d6ff26d063e",
    "slideshow": {
     "slide_type": "skip"
    }
   },
   "outputs": [
    {
     "data": {
      "text/html": [
       "<div>\n",
       "<style scoped>\n",
       "    .dataframe tbody tr th:only-of-type {\n",
       "        vertical-align: middle;\n",
       "    }\n",
       "\n",
       "    .dataframe tbody tr th {\n",
       "        vertical-align: top;\n",
       "    }\n",
       "\n",
       "    .dataframe thead th {\n",
       "        text-align: right;\n",
       "    }\n",
       "</style>\n",
       "<table border=\"1\" class=\"dataframe\">\n",
       "  <thead>\n",
       "    <tr style=\"text-align: right;\">\n",
       "      <th></th>\n",
       "      <th>PassengerId</th>\n",
       "      <th>Survived</th>\n",
       "      <th>Pclass</th>\n",
       "      <th>Name</th>\n",
       "      <th>Sex</th>\n",
       "      <th>Age</th>\n",
       "      <th>SibSp</th>\n",
       "      <th>Parch</th>\n",
       "      <th>Ticket</th>\n",
       "      <th>Fare</th>\n",
       "      <th>Cabin</th>\n",
       "      <th>Embarked</th>\n",
       "    </tr>\n",
       "  </thead>\n",
       "  <tbody>\n",
       "    <tr>\n",
       "      <th>234</th>\n",
       "      <td>235</td>\n",
       "      <td>0</td>\n",
       "      <td>2</td>\n",
       "      <td>Mr. Robert William Norman</td>\n",
       "      <td>male</td>\n",
       "      <td>24.0</td>\n",
       "      <td>0</td>\n",
       "      <td>0</td>\n",
       "      <td>C.A. 29566</td>\n",
       "      <td>10.5</td>\n",
       "      <td>NaN</td>\n",
       "      <td>S</td>\n",
       "    </tr>\n",
       "  </tbody>\n",
       "</table>\n",
       "</div>"
      ],
      "text/plain": [
       "     PassengerId  Survived  Pclass                       Name   Sex   Age  \\\n",
       "234          235         0       2  Mr. Robert William Norman  male  24.0   \n",
       "\n",
       "     SibSp  Parch      Ticket  Fare Cabin Embarked  \n",
       "234      0      0  C.A. 29566  10.5   NaN        S  "
      ]
     },
     "execution_count": 4,
     "metadata": {},
     "output_type": "execute_result"
    }
   ],
   "source": [
    "df.loc[df[\"Name\"] == \"Mr. Robert William Norman\" ] # We get all column values for Robert William"
   ]
  },
  {
   "cell_type": "code",
   "execution_count": 5,
   "id": "b711a048-c10b-4c38-9728-7fbc98bbe4bd",
   "metadata": {
    "colab": {
     "base_uri": "https://localhost:8080/"
    },
    "id": "b711a048-c10b-4c38-9728-7fbc98bbe4bd",
    "outputId": "308a6248-426f-4d95-ce96-43443590791f",
    "slideshow": {
     "slide_type": "skip"
    }
   },
   "outputs": [
    {
     "name": "stdout",
     "output_type": "stream",
     "text": [
      "The Passenger Id of Mr. Robert William Norman is: 235\n"
     ]
    }
   ],
   "source": [
    "robert_william = df.loc[df[\"Name\"] == \"Mr. Robert William Norman\"][\"PassengerId\"].values[0]\n",
    "print(\"The Passenger Id of Mr. Robert William Norman is:\", robert_william)"
   ]
  },
  {
   "cell_type": "markdown",
   "id": "cee0a0da-9b74-45ce-8846-df8a93614b21",
   "metadata": {
    "id": "cee0a0da-9b74-45ce-8846-df8a93614b21",
    "slideshow": {
     "slide_type": "skip"
    }
   },
   "source": [
    "------------------------------------------------"
   ]
  },
  {
   "cell_type": "markdown",
   "id": "fedfacfb-9b55-4f58-a01e-a6e0f15cb9c8",
   "metadata": {
    "id": "fedfacfb-9b55-4f58-a01e-a6e0f15cb9c8",
    "slideshow": {
     "slide_type": "skip"
    }
   },
   "source": [
    "## **Question 2** <a class=\"anchor\" id=\"question2\"></a>\n",
    "Compute the percentage of survivors out of total number of passengers and the percentage of men and women out of total number of passengers. "
   ]
  },
  {
   "cell_type": "markdown",
   "id": "9b543540-3d30-416a-9898-dc001447f992",
   "metadata": {
    "slideshow": {
     "slide_type": "skip"
    }
   },
   "source": [
    "*(Side-note): In Python, the {:.2f} format specifier is used to specify a floating-point number with two decimal places. When used in a string format, it will convert a number to a string representation with two decimal places. So everytime something like \"{:.2f}%\" appears, is for correctly formatting the numbers being displayed.*\n",
    "\n",
    "*For example, **print(percentage_survivors)** will return 0.383838383838.*\n",
    "*Whereas **print(\"{:.2f}%\".format(percentage_survivors))** will return 38.38%, which is way easier to read*"
   ]
  },
  {
   "cell_type": "code",
   "execution_count": 6,
   "id": "81e85aba-74c9-4571-8837-dd27aedec0b0",
   "metadata": {
    "colab": {
     "base_uri": "https://localhost:8080/",
     "height": 284
    },
    "id": "81e85aba-74c9-4571-8837-dd27aedec0b0",
    "outputId": "2f3e80ec-e2a8-4a56-b79a-108dcbfc3d9e",
    "slideshow": {
     "slide_type": "skip"
    }
   },
   "outputs": [
    {
     "name": "stdout",
     "output_type": "stream",
     "text": [
      "The percentage of survivors is: 38.38%\n",
      "\n"
     ]
    },
    {
     "data": {
      "image/png": "[encoded data removed]",
      "text/plain": [
       "<Figure size 432x288 with 1 Axes>"
      ]
     },
     "metadata": {},
     "output_type": "display_data"
    }
   ],
   "source": [
    "#Percentage of survivors out of the total number of passengers\n",
    "\n",
    "n_survivors = df.loc[df[\"Survived\"] == 1].shape[0]\n",
    "percentage_survivors = (n_survivors/df.shape[0])*100\n",
    "\n",
    "print(\"The percentage of survivors is:\" , \"{:.2f}%\" \"\\n\".format((percentage_survivors)))\n",
    "\n",
    "\n",
    "#Plot of survivors\n",
    "plt.pie([percentage_survivors, 100-percentage_survivors], labels=[\"Survivors\", \"Non-survivors\"], autopct=\"%.1f%%\") #autopct=\"%.1f%%\" gives a format to the numbers inside the pie plot\n",
    "plt.show()"
   ]
  },
  {
   "cell_type": "code",
   "execution_count": 7,
   "id": "79698163-32df-4c99-b7b4-249cd35f1f3e",
   "metadata": {
    "colab": {
     "base_uri": "https://localhost:8080/",
     "height": 318
    },
    "id": "79698163-32df-4c99-b7b4-249cd35f1f3e",
    "outputId": "5f91c1bb-9914-4985-89be-7116d9bc0016",
    "slideshow": {
     "slide_type": "skip"
    }
   },
   "outputs": [
    {
     "name": "stdout",
     "output_type": "stream",
     "text": [
      "The percentage of men is: 64.76%\n",
      "The percentage of women is: 35.24%\n",
      "\n"
     ]
    },
    {
     "data": {
      "image/png": "[encoded data removed]",
      "text/plain": [
       "<Figure size 432x288 with 1 Axes>"
      ]
     },
     "metadata": {},
     "output_type": "display_data"
    }
   ],
   "source": [
    "# Percentage of men and women out of total number of passengers.\n",
    "\n",
    "men = (df.loc[df[\"Sex\"] == \"male\"]).shape[0]\n",
    "women = (df.loc[df[\"Sex\"] == \"female\"]).shape[0]\n",
    "\n",
    "print(\"The percentage of men is:\", \"{:.2f}%\".format((men/df.shape[0])*100))\n",
    "print(\"The percentage of women is:\", \"{:.2f}%\" \"\\n\".format((women/df.shape[0])*100))\n",
    "\n",
    "# Plotting gender distribution\n",
    "plt.pie([(men/df.shape[0])*100, (women/df.shape[0])*100], labels=['Men', 'Women'], autopct='%.1f%%')\n",
    "plt.title('Gender Distribution')\n",
    "plt.show()"
   ]
  },
  {
   "cell_type": "markdown",
   "id": "a324c1d4-79ed-4c32-9982-02ee3c4e82b6",
   "metadata": {
    "id": "a324c1d4-79ed-4c32-9982-02ee3c4e82b6",
    "slideshow": {
     "slide_type": "slide"
    }
   },
   "source": [
    "------------------------------------------------"
   ]
  },
  {
   "cell_type": "markdown",
   "id": "41770636-f99e-42d5-9d22-e40378d6091a",
   "metadata": {
    "id": "41770636-f99e-42d5-9d22-e40378d6091a",
    "slideshow": {
     "slide_type": "skip"
    }
   },
   "source": [
    "## **Question 3** <a class=\"anchor\" id=\"question3\"></a>\n",
    "\n",
    "Compute the percentage of survivors by sex (i.e. the percentage of male passengers that survived and female passengers that survived) and the sex distribution of survivors (i.e. percentage of survivors that were men and percentage of survivors that were women). "
   ]
  },
  {
   "cell_type": "code",
   "execution_count": 8,
   "id": "26be2431-afc7-4836-9589-0702fa8f3dd6",
   "metadata": {
    "colab": {
     "base_uri": "https://localhost:8080/",
     "height": 318
    },
    "id": "26be2431-afc7-4836-9589-0702fa8f3dd6",
    "outputId": "7727c214-d62c-4b67-91e5-f6ed0fb0fe9f",
    "slideshow": {
     "slide_type": "skip"
    }
   },
   "outputs": [
    {
     "name": "stdout",
     "output_type": "stream",
     "text": [
      "The percentage of men that survived is: 18.89%\n",
      "The percentage of women that survived is: 74.20%\n",
      "\n"
     ]
    },
    {
     "data": {
      "image/png": "[encoded data removed]",
      "text/plain": [
       "<Figure size 432x288 with 1 Axes>"
      ]
     },
     "metadata": {},
     "output_type": "display_data"
    }
   ],
   "source": [
    "# Percentage of survivors by sex (the percentage of male passengers that survived and female passengers that survived)\n",
    "\n",
    "male_survivors = df.loc[(df[\"Sex\"] == \"male\") & (df[\"Survived\"] == 1)].shape[0]\n",
    "female_survivors = df.loc[(df[\"Sex\"] == \"female\") & (df[\"Survived\"] == 1)].shape[0]\n",
    "\n",
    "print(\"The percentage of men that survived is:\",\"{:.2f}%\".format((male_survivors/men)*100))\n",
    "print(\"The percentage of women that survived is:\",\"{:.2f}%\" \"\\n\".format((female_survivors/women)*100))\n",
    "\n",
    "# Plot of survival by gender\n",
    "plt.pie([(male_survivors/men)*100, (female_survivors/women)*100], labels=['Male', 'Female'], autopct='%1.1f%%')\n",
    "plt.title('Survival by Gender')\n",
    "plt.show()"
   ]
  },
  {
   "cell_type": "code",
   "execution_count": 9,
   "id": "007297de-fba9-4343-9c91-58f7b259c04b",
   "metadata": {
    "colab": {
     "base_uri": "https://localhost:8080/",
     "height": 318
    },
    "id": "007297de-fba9-4343-9c91-58f7b259c04b",
    "outputId": "94fc0583-ce9c-499c-8db9-b7da02ec4b32",
    "slideshow": {
     "slide_type": "skip"
    }
   },
   "outputs": [
    {
     "name": "stdout",
     "output_type": "stream",
     "text": [
      "The distribution of male survivors was: 31.87%\n",
      "The distribution of female survivors was: 68.13%\n",
      "\n"
     ]
    },
    {
     "data": {
      "image/png": "[encoded data removed]",
      "text/plain": [
       "<Figure size 432x288 with 1 Axes>"
      ]
     },
     "metadata": {},
     "output_type": "display_data"
    }
   ],
   "source": [
    "# And the sex distribution of survivors (percentage of survivors that were men and percentage of survivors that were women)\n",
    "\n",
    "distr_of_MS = (male_survivors/n_survivors)*100\n",
    "distr_of_FS = (female_survivors/n_survivors)*100\n",
    "\n",
    "print(\"The distribution of male survivors was:\",  \"{:.2f}%\".format(distr_of_MS))\n",
    "print(\"The distribution of female survivors was:\",  \"{:.2f}%\" \"\\n\".format(distr_of_FS))\n",
    "\n",
    "# Plot of the gender distribution between survivors\n",
    "plt.pie([distr_of_MS, distr_of_FS], labels=['Male Survivors', 'Female Survivors'], autopct='%1.1f%%')\n",
    "plt.title('Survivor Distribution by Gender')\n",
    "plt.show()"
   ]
  },
  {
   "cell_type": "markdown",
   "id": "299f37a9-7524-42b9-89e1-15539b7df270",
   "metadata": {
    "id": "299f37a9-7524-42b9-89e1-15539b7df270"
   },
   "source": [
    "-----------------------------------------------"
   ]
  },
  {
   "cell_type": "markdown",
   "id": "66f2a4c3-46d9-4fe1-9ef3-5596ce16ce70",
   "metadata": {
    "id": "66f2a4c3-46d9-4fe1-9ef3-5596ce16ce70",
    "slideshow": {
     "slide_type": "skip"
    }
   },
   "source": [
    "## **Question 4** <a class=\"anchor\" id=\"question4\"></a>\n",
    "\n",
    "Display in a 2 x 2 DataFrame the probability of being male/female and surviving/not surviving."
   ]
  },
  {
   "cell_type": "markdown",
   "id": "CjaCx3h4QE1q",
   "metadata": {
    "id": "CjaCx3h4QE1q",
    "slideshow": {
     "slide_type": "skip"
    }
   },
   "source": [
    "We found two different ways of doing this.\n",
    "The first solution is more done like brute-force style, but seems to be way more easy to understand than the second\n",
    "\n",
    "This is the first approach we did:"
   ]
  },
  {
   "cell_type": "code",
   "execution_count": 10,
   "id": "-NQ7XmICQGBf",
   "metadata": {
    "id": "-NQ7XmICQGBf",
    "slideshow": {
     "slide_type": "skip"
    }
   },
   "outputs": [],
   "source": [
    "p1 = (df.loc[(df[\"Sex\"] == \"male\") & (df[\"Survived\"] == 1)])[\"PassengerId\"].count() / df[\"PassengerId\"].count()\n",
    "p2 = (df.loc[(df[\"Sex\"] == \"female\") & (df[\"Survived\"] == 1)])[\"PassengerId\"].count() / df[\"PassengerId\"].count()\n",
    "p3 = (df.loc[(df[\"Sex\"] == \"male\") & (df[\"Survived\"] == 0)])[\"PassengerId\"].count() / df[\"PassengerId\"].count()\n",
    "p4 = (df.loc[(df[\"Sex\"] == \"female\") & (df[\"Survived\"] == 0)])[\"PassengerId\"].count() / df[\"PassengerId\"].count()"
   ]
  },
  {
   "cell_type": "markdown",
   "id": "LDaOAc4zRBae",
   "metadata": {
    "id": "LDaOAc4zRBae",
    "slideshow": {
     "slide_type": "skip"
    }
   },
   "source": [
    "This first approach may look easy to do with a 2x2 table, but it can get a lot messier with bigger dimensions.\n"
   ]
  },
  {
   "cell_type": "code",
   "execution_count": 11,
   "id": "TmrRo9xKQTb0",
   "metadata": {
    "colab": {
     "base_uri": "https://localhost:8080/",
     "height": 0
    },
    "id": "TmrRo9xKQTb0",
    "outputId": "198de81e-7990-4778-f08a-3445dc29cf54",
    "slideshow": {
     "slide_type": "skip"
    }
   },
   "outputs": [
    {
     "data": {
      "text/html": [
       "<div>\n",
       "<style scoped>\n",
       "    .dataframe tbody tr th:only-of-type {\n",
       "        vertical-align: middle;\n",
       "    }\n",
       "\n",
       "    .dataframe tbody tr th {\n",
       "        vertical-align: top;\n",
       "    }\n",
       "\n",
       "    .dataframe thead th {\n",
       "        text-align: right;\n",
       "    }\n",
       "</style>\n",
       "<table border=\"1\" class=\"dataframe\">\n",
       "  <thead>\n",
       "    <tr style=\"text-align: right;\">\n",
       "      <th></th>\n",
       "      <th>Survived</th>\n",
       "      <th>Not Survived</th>\n",
       "    </tr>\n",
       "  </thead>\n",
       "  <tbody>\n",
       "    <tr>\n",
       "      <th>male</th>\n",
       "      <td>0.122334</td>\n",
       "      <td>0.525253</td>\n",
       "    </tr>\n",
       "    <tr>\n",
       "      <th>female</th>\n",
       "      <td>0.261504</td>\n",
       "      <td>0.090909</td>\n",
       "    </tr>\n",
       "  </tbody>\n",
       "</table>\n",
       "</div>"
      ],
      "text/plain": [
       "        Survived  Not Survived\n",
       "male    0.122334      0.525253\n",
       "female  0.261504      0.090909"
      ]
     },
     "execution_count": 11,
     "metadata": {},
     "output_type": "execute_result"
    }
   ],
   "source": [
    "d = {'Survived': [p1, p2], 'Not Survived': [p3, p4]}\n",
    "df1 = pd.DataFrame(data=d, index=[\"male\",\"female\"])\n",
    "df1"
   ]
  },
  {
   "cell_type": "code",
   "execution_count": 12,
   "id": "d300103d-385b-4664-9028-ddab636a0ff7",
   "metadata": {
    "colab": {
     "base_uri": "https://localhost:8080/",
     "height": 0
    },
    "id": "d300103d-385b-4664-9028-ddab636a0ff7",
    "outputId": "831a878a-cadb-4431-d27f-feebbd11f79c",
    "slideshow": {
     "slide_type": "skip"
    }
   },
   "outputs": [
    {
     "data": {
      "text/html": [
       "<div>\n",
       "<style scoped>\n",
       "    .dataframe tbody tr th:only-of-type {\n",
       "        vertical-align: middle;\n",
       "    }\n",
       "\n",
       "    .dataframe tbody tr th {\n",
       "        vertical-align: top;\n",
       "    }\n",
       "\n",
       "    .dataframe thead th {\n",
       "        text-align: right;\n",
       "    }\n",
       "</style>\n",
       "<table border=\"1\" class=\"dataframe\">\n",
       "  <thead>\n",
       "    <tr style=\"text-align: right;\">\n",
       "      <th></th>\n",
       "      <th>Not Survived</th>\n",
       "      <th>Survived</th>\n",
       "    </tr>\n",
       "    <tr>\n",
       "      <th></th>\n",
       "      <th></th>\n",
       "      <th></th>\n",
       "    </tr>\n",
       "  </thead>\n",
       "  <tbody>\n",
       "    <tr>\n",
       "      <th>female</th>\n",
       "      <td>0.090909</td>\n",
       "      <td>0.261504</td>\n",
       "    </tr>\n",
       "    <tr>\n",
       "      <th>male</th>\n",
       "      <td>0.525253</td>\n",
       "      <td>0.122334</td>\n",
       "    </tr>\n",
       "  </tbody>\n",
       "</table>\n",
       "</div>"
      ],
      "text/plain": [
       "        Not Survived  Survived\n",
       "                              \n",
       "female      0.090909  0.261504\n",
       "male        0.525253  0.122334"
      ]
     },
     "metadata": {},
     "output_type": "display_data"
    },
    {
     "name": "stdout",
     "output_type": "stream",
     "text": [
      "\n"
     ]
    },
    {
     "data": {
      "image/png": "[encoded data removed]",
      "text/plain": [
       "<Figure size 432x288 with 2 Axes>"
      ]
     },
     "metadata": {},
     "output_type": "display_data"
    }
   ],
   "source": [
    "gender_surviving = df.groupby('Sex')['Survived'].value_counts().unstack()\n",
    "total = gender_surviving.sum().sum()\n",
    "p_gender_surviving = gender_surviving.div(total)\n",
    "p_gender_surviving = p_gender_surviving.rename(columns={0: \"Not Survived\", 1: \"Survived\"})\n",
    "p_gender_surviving = p_gender_surviving.rename_axis(index=\"\", columns=\"\")\n",
    "display(p_gender_surviving)\n",
    "print(\"\")\n",
    "\n",
    "# Plotting the results into a pie chart\n",
    "p_gender_surviving.plot.pie(subplots=True, autopct='%1.1f%%', shadow=False, startangle=90)\n",
    "plt.show()"
   ]
  },
  {
   "cell_type": "markdown",
   "id": "c9b4bada",
   "metadata": {
    "id": "peY7j3aJQd-v",
    "slideshow": {
     "slide_type": "skip"
    }
   },
   "source": [
    "This is the second approach, which uses the groupby statement which comes included with the pandas library\n",
    "\n",
    "Every single value count inside the dataframe gets divided by the sum of all values inside the table, giving us the correct probability.\n",
    "\n",
    "At first glance, it looks like a much more complex solution in terms of code, but this complexity is compensated in much less text and code operations, which is a very good practice."
   ]
  },
  {
   "cell_type": "code",
   "execution_count": 13,
   "id": "380777a4-9426-43ff-9564-95a05814d91f",
   "metadata": {
    "slideshow": {
     "slide_type": "skip"
    }
   },
   "outputs": [
    {
     "data": {
      "text/plain": [
       "'        Not Survived  Survived\\n                              \\nfemale      0.090909  0.261504\\nmale        0.525253  0.122334'"
      ]
     },
     "execution_count": 13,
     "metadata": {},
     "output_type": "execute_result"
    }
   ],
   "source": [
    "p_gender_surviving.to_string()"
   ]
  },
  {
   "cell_type": "markdown",
   "id": "d70f71df-c798-4a60-adba-d3936f58b9fa",
   "metadata": {
    "id": "d70f71df-c798-4a60-adba-d3936f58b9fa",
    "slideshow": {
     "slide_type": "skip"
    }
   },
   "source": [
    "------------------------------------------------"
   ]
  },
  {
   "cell_type": "markdown",
   "id": "fb4d31cf-3f52-4198-9876-7ef857dc28f1",
   "metadata": {
    "id": "fb4d31cf-3f52-4198-9876-7ef857dc28f1",
    "slideshow": {
     "slide_type": "skip"
    }
   },
   "source": [
    "## **Question 5** <a class=\"anchor\" id=\"question5\"></a>\n",
    "\n",
    "Display in a DataFrame the probability of survival/not survival of all combinations of sex and class"
   ]
  },
  {
   "cell_type": "code",
   "execution_count": 14,
   "id": "ufYK3IT8gEbp",
   "metadata": {
    "colab": {
     "base_uri": "https://localhost:8080/",
     "height": 0
    },
    "id": "ufYK3IT8gEbp",
    "outputId": "6702aac3-3a0d-4cb4-da17-a2f10f204176",
    "slideshow": {
     "slide_type": "skip"
    }
   },
   "outputs": [
    {
     "data": {
      "text/html": [
       "<div>\n",
       "<style scoped>\n",
       "    .dataframe tbody tr th:only-of-type {\n",
       "        vertical-align: middle;\n",
       "    }\n",
       "\n",
       "    .dataframe tbody tr th {\n",
       "        vertical-align: top;\n",
       "    }\n",
       "\n",
       "    .dataframe thead th {\n",
       "        text-align: right;\n",
       "    }\n",
       "</style>\n",
       "<table border=\"1\" class=\"dataframe\">\n",
       "  <thead>\n",
       "    <tr style=\"text-align: right;\">\n",
       "      <th></th>\n",
       "      <th></th>\n",
       "      <th>Not Survived</th>\n",
       "      <th>Survived</th>\n",
       "    </tr>\n",
       "    <tr>\n",
       "      <th>Sex</th>\n",
       "      <th>Pclass</th>\n",
       "      <th></th>\n",
       "      <th></th>\n",
       "    </tr>\n",
       "  </thead>\n",
       "  <tbody>\n",
       "    <tr>\n",
       "      <th rowspan=\"3\" valign=\"top\">female</th>\n",
       "      <th>1</th>\n",
       "      <td>0.003367</td>\n",
       "      <td>0.102132</td>\n",
       "    </tr>\n",
       "    <tr>\n",
       "      <th>2</th>\n",
       "      <td>0.006734</td>\n",
       "      <td>0.078563</td>\n",
       "    </tr>\n",
       "    <tr>\n",
       "      <th>3</th>\n",
       "      <td>0.080808</td>\n",
       "      <td>0.080808</td>\n",
       "    </tr>\n",
       "    <tr>\n",
       "      <th rowspan=\"3\" valign=\"top\">male</th>\n",
       "      <th>1</th>\n",
       "      <td>0.086420</td>\n",
       "      <td>0.050505</td>\n",
       "    </tr>\n",
       "    <tr>\n",
       "      <th>2</th>\n",
       "      <td>0.102132</td>\n",
       "      <td>0.019080</td>\n",
       "    </tr>\n",
       "    <tr>\n",
       "      <th>3</th>\n",
       "      <td>0.336700</td>\n",
       "      <td>0.052750</td>\n",
       "    </tr>\n",
       "  </tbody>\n",
       "</table>\n",
       "</div>"
      ],
      "text/plain": [
       "               Not Survived  Survived\n",
       "Sex    Pclass                        \n",
       "female 1           0.003367  0.102132\n",
       "       2           0.006734  0.078563\n",
       "       3           0.080808  0.080808\n",
       "male   1           0.086420  0.050505\n",
       "       2           0.102132  0.019080\n",
       "       3           0.336700  0.052750"
      ]
     },
     "metadata": {},
     "output_type": "display_data"
    }
   ],
   "source": [
    "# We use the second approach used in the last question\n",
    "\n",
    "gender_survive_by_class = df.groupby(['Sex', 'Pclass'])['Survived'].value_counts().unstack()\n",
    "\n",
    "total_survived = gender_survive_by_class[1].sum()\n",
    "total_not_survived = gender_survive_by_class[0].sum()\n",
    "p_gender_survive_by_class = gender_survive_by_class.div(total_survived + total_not_survived) # We want to divide each cell by the sum of all rows in the df\n",
    "\n",
    "p_gender_survive_by_class = p_gender_survive_by_class.rename(columns={0: \"Not Survived\", 1: \"Survived\"})\n",
    "p_gender_survive_by_class = p_gender_survive_by_class.rename_axis(columns=[\"\"]) # Here we are just basically removing the column name \"Survived\", just to make the df look prettier, just like in the previous line of code\n",
    "\n",
    "display(p_gender_survive_by_class)"
   ]
  },
  {
   "cell_type": "markdown",
   "id": "IrHJGpvDFWlH",
   "metadata": {
    "id": "IrHJGpvDFWlH",
    "slideshow": {
     "slide_type": "skip"
    }
   },
   "source": [
    "Here we can see the results plotted, each bar represents one combination of gender + class. The blue part of each bar represents the people who survived, and the orange represents the ones that did not.\n",
    "\n",
    "As we can see, the vast majority of fatalities in the titanic were low-class males, meanwhile wealthy women got the possibility to save themselves."
   ]
  },
  {
   "cell_type": "code",
   "execution_count": 15,
   "id": "IaYiJDBm9Rt9",
   "metadata": {
    "colab": {
     "base_uri": "https://localhost:8080/",
     "height": 0
    },
    "id": "IaYiJDBm9Rt9",
    "outputId": "b9d0f2e0-cbef-45cf-9b2f-1a821913d0ea",
    "slideshow": {
     "slide_type": "skip"
    }
   },
   "outputs": [
    {
     "data": {
      "image/png": "[encoded data removed]",
      "text/plain": [
       "<Figure size 432x288 with 1 Axes>"
      ]
     },
     "metadata": {
      "needs_background": "light"
     },
     "output_type": "display_data"
    }
   ],
   "source": [
    "# Plotting the passenger's survival percentages based on their sex and class.\n",
    "\n",
    "p_gender_survive_by_class.plot(kind='bar', stacked=True)\n",
    "plt.xlabel('Sex and Class');plt.ylabel('Survived');plt.title('Sex and Passenger Class')\n",
    "plt.show()"
   ]
  },
  {
   "cell_type": "markdown",
   "id": "485897e4-f411-4cb1-a255-a751c8f2620d",
   "metadata": {
    "id": "485897e4-f411-4cb1-a255-a751c8f2620d",
    "slideshow": {
     "slide_type": "slide"
    },
    "tags": []
   },
   "source": [
    "## **Question 6** <a class=\"anchor\" id=\"question6\"></a>\n",
    "\n",
    "Present three insights about the dataset, each of them relating at least 3 different variables, and support them by code and numbers"
   ]
  },
  {
   "cell_type": "markdown",
   "id": "5f2b3478-1a67-4cf0-a1c3-38a7048e97fd",
   "metadata": {
    "id": "5f2b3478-1a67-4cf0-a1c3-38a7048e97fd",
    "slideshow": {
     "slide_type": "slide"
    }
   },
   "source": [
    "### **Insight 1** <a class=\"anchor\" id=\"insight1\"></a>"
   ]
  },
  {
   "cell_type": "markdown",
   "id": "rdIfNzcwEhOy",
   "metadata": {
    "id": "rdIfNzcwEhOy",
    "slideshow": {
     "slide_type": "fragment"
    }
   },
   "source": [
    "A significant number of passengers who had a family member on board also survived, suggesting that having a relative on board may have increased their chances of survival."
   ]
  },
  {
   "cell_type": "code",
   "execution_count": 16,
   "id": "p4tIXuWrUptd",
   "metadata": {
    "id": "p4tIXuWrUptd",
    "slideshow": {
     "slide_type": "fragment"
    }
   },
   "outputs": [],
   "source": [
    "#Dataframes with the data of the people with and without family members on board\n",
    "family_data = df.loc[(df[\"SibSp\"] > 0) | (df[\"Parch\"] > 0)]\n",
    "not_family_data = df.loc[(df[\"SibSp\"] == 0) & (df[\"Parch\"] == 0)]"
   ]
  },
  {
   "cell_type": "code",
   "execution_count": 17,
   "id": "erPGaOpRUriT",
   "metadata": {
    "id": "erPGaOpRUriT",
    "slideshow": {
     "slide_type": "fragment"
    }
   },
   "outputs": [],
   "source": [
    "#Survivors and not survivors for the ones with and without family members\n",
    "family_survivors = family_data[\"Survived\"].value_counts()\n",
    "not_family_survivors = not_family_data[\"Survived\"].value_counts()"
   ]
  },
  {
   "cell_type": "code",
   "execution_count": 18,
   "id": "CBn2LZKFUthI",
   "metadata": {
    "id": "CBn2LZKFUthI",
    "slideshow": {
     "slide_type": "fragment"
    }
   },
   "outputs": [],
   "source": [
    "#Rates of surviving for both possibilities\n",
    "family_survival_rate = family_survivors[1] / (family_survivors[0] + family_survivors[1]) * 100\n",
    "not_family_survival_rate = not_family_survivors[1] / (not_family_survivors[0] + not_family_survivors[1]) * 100"
   ]
  },
  {
   "cell_type": "code",
   "execution_count": 19,
   "id": "245ee7d8-81b8-4dd8-82cf-d0f16fae1703",
   "metadata": {
    "colab": {
     "base_uri": "https://localhost:8080/",
     "height": 410
    },
    "id": "245ee7d8-81b8-4dd8-82cf-d0f16fae1703",
    "outputId": "21b62048-9c96-461b-e56e-cf0ded575d4e",
    "slideshow": {
     "slide_type": "slide"
    }
   },
   "outputs": [
    {
     "name": "stdout",
     "output_type": "stream",
     "text": [
      "Survival rate among passengers with family members: 50.56%\n",
      "Survival rate among passengers without family members: 30.35%\n",
      "\n",
      "We can observe that passengers with brothers, sisters, parents or spouses onboard, had a 20.21% more chances of survival\n",
      "\n"
     ]
    },
    {
     "data": {
      "image/png": "[encoded data removed]",
      "text/plain": [
       "<Figure size 936x360 with 2 Axes>"
      ]
     },
     "metadata": {},
     "output_type": "display_data"
    }
   ],
   "source": [
    "# Printing the survival rates\n",
    "print(\"Survival rate among passengers with family members: {:.2f}%\".format(family_survival_rate))\n",
    "print(\"Survival rate among passengers without family members: {:.2f}%\".format(not_family_survival_rate))\n",
    "print(\"\")\n",
    "print(\"We can observe that passengers with brothers, sisters, parents or spouses onboard, had a {:.2f}%\".format(family_survival_rate - not_family_survival_rate), \n",
    "      \"more chances of survival\")\n",
    "print(\"\")\n",
    "\n",
    "# Plot the number of survivors and non-survivors in the family_data and not_family_data dataframes\n",
    "fig = plt.figure(figsize=(13, 5))\n",
    "plt.subplot(1, 2, 1)\n",
    "f1 = family_survivors.plot.pie(title='Survival rates among passengers with relatives onboard',autopct='%.2f%%')\n",
    "plt.subplot(1, 2, 2)\n",
    "f1 = not_family_survivors.plot.pie( title='Survival rates among passengers without relatives onboard',autopct='%.2f%%')"
   ]
  },
  {
   "cell_type": "markdown",
   "id": "9w0XpyNd61o5",
   "metadata": {
    "id": "9w0XpyNd61o5",
    "slideshow": {
     "slide_type": "slide"
    }
   },
   "source": [
    "### **Insight 2** <a class=\"anchor\" id=\"insight2\"></a>"
   ]
  },
  {
   "cell_type": "markdown",
   "id": "0Q8moNBUsNpk",
   "metadata": {
    "id": "0Q8moNBUsNpk",
    "slideshow": {
     "slide_type": "fragment"
    }
   },
   "source": [
    "Another thing we wanted to check out is which age ranges were the ones that survived the most and the least, a new column was created in the dataframe in order to do so, and we did the following:"
   ]
  },
  {
   "cell_type": "code",
   "execution_count": 20,
   "id": "R7xaJPOj6zQW",
   "metadata": {
    "id": "R7xaJPOj6zQW",
    "slideshow": {
     "slide_type": "slide"
    }
   },
   "outputs": [],
   "source": [
    "# Instead of the regular approach when creating the \"Age-Range\" column, pandas comes with a built-in function that defines bins to input the data that we need.\n",
    "  # This would be the first solution:\n",
    "\n",
    "df.loc[df[\"Age\"] <= 18 , \"Age Range\"] = \"0-18\"\n",
    "df.loc[(df[\"Age\"] > 18) & (df[\"Age\"] <= 30)  , \"Age Range\"] = \"18-30\"\n",
    "df.loc[(df[\"Age\"] > 30) & (df[\"Age\"] <= 50)  , \"Age Range\"] = \"30-50\"\n",
    "df.loc[(df[\"Age\"] > 50) , \"Age Range\"] = \"50+\""
   ]
  },
  {
   "cell_type": "code",
   "execution_count": 21,
   "id": "5xX7vnLmtB7i",
   "metadata": {
    "id": "5xX7vnLmtB7i",
    "slideshow": {
     "slide_type": "fragment"
    }
   },
   "outputs": [],
   "source": [
    "# And this would be the second one, a bit more sophisticated, we basically define the labels and the bins used, and then we pass those parameters to the pandas.cut() function\n",
    "bins = [0, 18, 30, 50, df['Age'].max()]\n",
    "labels = ['0-18', '18-30', '30-50', '50+']\n",
    "df['Age Range'] = pd.cut(df['Age'], bins=bins, labels=labels)"
   ]
  },
  {
   "cell_type": "code",
   "execution_count": 22,
   "id": "9g4lmN8qVyLn",
   "metadata": {
    "colab": {
     "base_uri": "https://localhost:8080/",
     "height": 350
    },
    "id": "9g4lmN8qVyLn",
    "outputId": "89b021db-ef37-4f90-d964-fb6bf361a9b4",
    "slideshow": {
     "slide_type": "slide"
    }
   },
   "outputs": [
    {
     "data": {
      "text/html": [
       "<div>\n",
       "<style scoped>\n",
       "    .dataframe tbody tr th:only-of-type {\n",
       "        vertical-align: middle;\n",
       "    }\n",
       "\n",
       "    .dataframe tbody tr th {\n",
       "        vertical-align: top;\n",
       "    }\n",
       "\n",
       "    .dataframe thead th {\n",
       "        text-align: right;\n",
       "    }\n",
       "</style>\n",
       "<table border=\"1\" class=\"dataframe\">\n",
       "  <thead>\n",
       "    <tr style=\"text-align: right;\">\n",
       "      <th></th>\n",
       "      <th></th>\n",
       "      <th>Survived</th>\n",
       "    </tr>\n",
       "    <tr>\n",
       "      <th>Sex</th>\n",
       "      <th>Age Range</th>\n",
       "      <th></th>\n",
       "    </tr>\n",
       "  </thead>\n",
       "  <tbody>\n",
       "    <tr>\n",
       "      <th rowspan=\"4\" valign=\"top\">female</th>\n",
       "      <th>0-18</th>\n",
       "      <td>0.676471</td>\n",
       "    </tr>\n",
       "    <tr>\n",
       "      <th>18-30</th>\n",
       "      <td>0.755556</td>\n",
       "    </tr>\n",
       "    <tr>\n",
       "      <th>30-50</th>\n",
       "      <td>0.779070</td>\n",
       "    </tr>\n",
       "    <tr>\n",
       "      <th>50+</th>\n",
       "      <td>0.941176</td>\n",
       "    </tr>\n",
       "    <tr>\n",
       "      <th rowspan=\"4\" valign=\"top\">male</th>\n",
       "      <th>0-18</th>\n",
       "      <td>0.338028</td>\n",
       "    </tr>\n",
       "    <tr>\n",
       "      <th>18-30</th>\n",
       "      <td>0.155556</td>\n",
       "    </tr>\n",
       "    <tr>\n",
       "      <th>30-50</th>\n",
       "      <td>0.225806</td>\n",
       "    </tr>\n",
       "    <tr>\n",
       "      <th>50+</th>\n",
       "      <td>0.127660</td>\n",
       "    </tr>\n",
       "  </tbody>\n",
       "</table>\n",
       "</div>"
      ],
      "text/plain": [
       "                  Survived\n",
       "Sex    Age Range          \n",
       "female 0-18       0.676471\n",
       "       18-30      0.755556\n",
       "       30-50      0.779070\n",
       "       50+        0.941176\n",
       "male   0-18       0.338028\n",
       "       18-30      0.155556\n",
       "       30-50      0.225806\n",
       "       50+        0.127660"
      ]
     },
     "metadata": {},
     "output_type": "display_data"
    },
    {
     "name": "stdout",
     "output_type": "stream",
     "text": [
      "\n"
     ]
    }
   ],
   "source": [
    "# We compute this new column into a pivot table and display it along with the sex variable.\n",
    "\n",
    "age_range_df = df.pivot_table(\n",
    "                    index = [\"Sex\" , \"Age Range\"],\n",
    "                    values = \"Survived\")\n",
    "\n",
    "display(age_range_df)\n",
    "print(\"\")"
   ]
  },
  {
   "cell_type": "code",
   "execution_count": 23,
   "id": "uz1U_WKo66CV",
   "metadata": {
    "colab": {
     "base_uri": "https://localhost:8080/",
     "height": 347
    },
    "id": "uz1U_WKo66CV",
    "outputId": "8a3bf23d-fbe1-4b1f-cc69-1de35a8e8cf2",
    "slideshow": {
     "slide_type": "slide"
    }
   },
   "outputs": [
    {
     "data": {
      "image/png": "[encoded data removed]",
      "text/plain": [
       "<Figure size 432x288 with 1 Axes>"
      ]
     },
     "metadata": {
      "needs_background": "light"
     },
     "output_type": "display_data"
    }
   ],
   "source": [
    "# Plotting the survival rates\n",
    "age_range_df.plot(kind='bar')\n",
    "plt.ylabel('Survived')\n",
    "plt.xlabel('Sex and age range')\n",
    "plt.show()"
   ]
  },
  {
   "cell_type": "markdown",
   "id": "mSDL7Wy_6_Si",
   "metadata": {
    "id": "mSDL7Wy_6_Si",
    "slideshow": {
     "slide_type": "fragment"
    }
   },
   "source": [
    "Woman above 50 years old had the most probability of surviving with a 94.12% while men above the age of 50 had the least probability of surviving with a 12.77%"
   ]
  },
  {
   "cell_type": "markdown",
   "id": "SiYLGVO7n0YX",
   "metadata": {
    "id": "SiYLGVO7n0YX",
    "slideshow": {
     "slide_type": "slide"
    }
   },
   "source": [
    "### **Insight 3** <a class=\"anchor\" id=\"insight3\"></a>"
   ]
  },
  {
   "cell_type": "markdown",
   "id": "1XLQ_ud7PjSm",
   "metadata": {
    "id": "1XLQ_ud7PjSm",
    "slideshow": {
     "slide_type": "fragment"
    }
   },
   "source": [
    "Analyzing the dataset, we wanted to know more about the cabins and the ports. For this we create a new variable \"Known Cabin\" for people we actually now they were in a cabin.\n",
    "\n",
    "Port of Embarkation (C = Cherbourg; Q = Queenstown; S = Southampton)"
   ]
  },
  {
   "cell_type": "code",
   "execution_count": 24,
   "id": "-UtBgWp9sfnc",
   "metadata": {
    "id": "-UtBgWp9sfnc",
    "slideshow": {
     "slide_type": "slide"
    }
   },
   "outputs": [],
   "source": [
    "df[\"Known Cabin\"] = ~df[\"Cabin\"].isnull() # All cabin values that are not null"
   ]
  },
  {
   "cell_type": "code",
   "execution_count": 25,
   "id": "d2023e0f-e432-456a-a321-066cfabc21df",
   "metadata": {
    "slideshow": {
     "slide_type": "fragment"
    }
   },
   "outputs": [
    {
     "data": {
      "text/plain": [
       "Embarked  Known Cabin\n",
       "C         False           30.983335\n",
       "          True           101.520957\n",
       "Q         False           11.262388\n",
       "          True            50.025000\n",
       "S         False           18.003064\n",
       "          True            63.316440\n",
       "Name: Fare, dtype: float64"
      ]
     },
     "execution_count": 25,
     "metadata": {},
     "output_type": "execute_result"
    }
   ],
   "source": [
    "rich = df.groupby([\"Embarked\",\"Known Cabin\"])[\"Fare\"].mean()\n",
    "rich"
   ]
  },
  {
   "cell_type": "code",
   "execution_count": 26,
   "id": "e3afabe1-411d-411a-a563-058e851242f9",
   "metadata": {
    "slideshow": {
     "slide_type": "slide"
    }
   },
   "outputs": [
    {
     "data": {
      "image/png": "[encoded data removed]",
      "text/plain": [
       "<Figure size 432x288 with 1 Axes>"
      ]
     },
     "metadata": {
      "needs_background": "light"
     },
     "output_type": "display_data"
    }
   ],
   "source": [
    "rich.plot(kind='bar')\n",
    "plt.ylabel('Avg Fare')\n",
    "plt.xlabel('Port and Known Cabin')\n",
    "plt.show()"
   ]
  },
  {
   "cell_type": "markdown",
   "id": "MBIKauY5srKI",
   "metadata": {
    "id": "MBIKauY5srKI",
    "slideshow": {
     "slide_type": "skip"
    }
   },
   "source": [
    "So as we can see, people the embarked from port C and we know their cabin, pay way more in average than the rest. Also for people we dont known if they got a cabin, the ones for Port C also pay more in average than people from the other ports that dont have a cabin assigned."
   ]
  },
  {
   "cell_type": "markdown",
   "id": "2Mw8XeTtwmnN",
   "metadata": {
    "id": "2Mw8XeTtwmnN",
    "slideshow": {
     "slide_type": "slide"
    }
   },
   "source": [
    "### **Bonus Insight - The captain went down with the ship** "
   ]
  },
  {
   "cell_type": "markdown",
   "id": "oGe1tAzewmiv",
   "metadata": {
    "id": "oGe1tAzewmiv",
    "slideshow": {
     "slide_type": "fragment"
    }
   },
   "source": [
    "According to tradition, the captain of a boat is always the last one to leave in an emergency situation. This is known as the \"captain goes down with the ship\" tradition. There are exceptions to this tradition, such as the Costa Concordia incident."
   ]
  },
  {
   "cell_type": "code",
   "execution_count": 27,
   "id": "-jhEPJKExVUb",
   "metadata": {
    "colab": {
     "base_uri": "https://localhost:8080/",
     "height": 81
    },
    "id": "-jhEPJKExVUb",
    "outputId": "495894cd-334d-4d6e-f671-662c30d73bd5",
    "slideshow": {
     "slide_type": "fragment"
    }
   },
   "outputs": [
    {
     "data": {
      "text/html": [
       "<div>\n",
       "<style scoped>\n",
       "    .dataframe tbody tr th:only-of-type {\n",
       "        vertical-align: middle;\n",
       "    }\n",
       "\n",
       "    .dataframe tbody tr th {\n",
       "        vertical-align: top;\n",
       "    }\n",
       "\n",
       "    .dataframe thead th {\n",
       "        text-align: right;\n",
       "    }\n",
       "</style>\n",
       "<table border=\"1\" class=\"dataframe\">\n",
       "  <thead>\n",
       "    <tr style=\"text-align: right;\">\n",
       "      <th></th>\n",
       "      <th>PassengerId</th>\n",
       "      <th>Survived</th>\n",
       "      <th>Pclass</th>\n",
       "      <th>Name</th>\n",
       "      <th>Sex</th>\n",
       "      <th>Age</th>\n",
       "      <th>SibSp</th>\n",
       "      <th>Parch</th>\n",
       "      <th>Ticket</th>\n",
       "      <th>Fare</th>\n",
       "      <th>Cabin</th>\n",
       "      <th>Embarked</th>\n",
       "      <th>Age Range</th>\n",
       "      <th>Known Cabin</th>\n",
       "    </tr>\n",
       "  </thead>\n",
       "  <tbody>\n",
       "    <tr>\n",
       "      <th>745</th>\n",
       "      <td>746</td>\n",
       "      <td>0</td>\n",
       "      <td>1</td>\n",
       "      <td>Capt. Edward Gifford</td>\n",
       "      <td>male</td>\n",
       "      <td>70.0</td>\n",
       "      <td>1</td>\n",
       "      <td>1</td>\n",
       "      <td>WE/P 5735</td>\n",
       "      <td>71.0</td>\n",
       "      <td>B22</td>\n",
       "      <td>S</td>\n",
       "      <td>50+</td>\n",
       "      <td>True</td>\n",
       "    </tr>\n",
       "  </tbody>\n",
       "</table>\n",
       "</div>"
      ],
      "text/plain": [
       "     PassengerId  Survived  Pclass                  Name   Sex   Age  SibSp  \\\n",
       "745          746         0       1  Capt. Edward Gifford  male  70.0      1   \n",
       "\n",
       "     Parch     Ticket  Fare Cabin Embarked Age Range  Known Cabin  \n",
       "745      1  WE/P 5735  71.0   B22        S       50+         True  "
      ]
     },
     "execution_count": 27,
     "metadata": {},
     "output_type": "execute_result"
    }
   ],
   "source": [
    "df[df[\"Name\"].str.contains(\"Capt\")]"
   ]
  },
  {
   "cell_type": "markdown",
   "id": "aoJLkXjMxhvy",
   "metadata": {
    "id": "aoJLkXjMxhvy",
    "slideshow": {
     "slide_type": "fragment"
    }
   },
   "source": [
    "In this case, the captain Edward Gifford died in the tragedy of the Titanic"
   ]
  },
  {
   "cell_type": "markdown",
   "id": "604f8542-cf4d-49f8-93f9-711f93bb2648",
   "metadata": {
    "id": "604f8542-cf4d-49f8-93f9-711f93bb2648"
   },
   "source": [
    "---------------------------------------------------"
   ]
  },
  {
   "cell_type": "markdown",
   "id": "13d1f08d-4382-49c1-9b6f-6b4b8a211466",
   "metadata": {
    "id": "13d1f08d-4382-49c1-9b6f-6b4b8a211466",
    "slideshow": {
     "slide_type": "slide"
    }
   },
   "source": [
    "## **Question 7** <a class=\"anchor\" id=\"question7\"></a>\n",
    "\n",
    "Devise two distinct strategies to impute the missing values in the Age column."
   ]
  },
  {
   "cell_type": "markdown",
   "id": "EX0aNc_SWyPm",
   "metadata": {
    "id": "EX0aNc_SWyPm",
    "slideshow": {
     "slide_type": "fragment"
    }
   },
   "source": [
    "As we saw before, there are three columns with missing values: \"Age\" , \"Cabin\" and \"Embarked\". We only need to find two ways of inputting values into the \"Age\" column."
   ]
  },
  {
   "cell_type": "markdown",
   "id": "U6R02sVGbJ2K",
   "metadata": {
    "id": "U6R02sVGbJ2K",
    "slideshow": {
     "slide_type": "fragment"
    }
   },
   "source": [
    "First, we want to check the correlation between variables, specially the ones more correlated with the \"Age\" column. Which will mean that every change in one of those variables, has a big repercusion in \"Age\""
   ]
  },
  {
   "cell_type": "code",
   "execution_count": 28,
   "id": "S829yRAFabbn",
   "metadata": {
    "id": "S829yRAFabbn",
    "slideshow": {
     "slide_type": "slide"
    }
   },
   "outputs": [],
   "source": [
    "# We compute the correlation between the variables\n",
    "corr = df.corr()"
   ]
  },
  {
   "cell_type": "code",
   "execution_count": 29,
   "id": "348KChUBa_lV",
   "metadata": {
    "colab": {
     "base_uri": "https://localhost:8080/",
     "height": 0
    },
    "id": "348KChUBa_lV",
    "outputId": "a9392da3-6f96-441a-ce1d-5fcfeb8421c0",
    "slideshow": {
     "slide_type": "fragment"
    }
   },
   "outputs": [
    {
     "data": {
      "text/plain": [
       "<AxesSubplot:>"
      ]
     },
     "execution_count": 29,
     "metadata": {},
     "output_type": "execute_result"
    },
    {
     "data": {
      "image/png": "[encoded data removed]",
      "text/plain": [
       "<Figure size 720x432 with 2 Axes>"
      ]
     },
     "metadata": {
      "needs_background": "light"
     },
     "output_type": "display_data"
    }
   ],
   "source": [
    "# We use a heatmap to display the correlation of variables\n",
    "plt.figure(figsize=(10, 6))\n",
    "sns.heatmap(corr, annot= True)"
   ]
  },
  {
   "cell_type": "markdown",
   "id": "BYLyykAQuxOP",
   "metadata": {
    "id": "BYLyykAQuxOP",
    "slideshow": {
     "slide_type": "fragment"
    }
   },
   "source": [
    "As we see in the heatmap, the varibales Pclass and SibSp are the variables that correlate the most with the Age variable.\n",
    "\n",
    "Let's use these two variables first for the missing values inputting strategy number 1"
   ]
  },
  {
   "cell_type": "markdown",
   "id": "c7R2-G80jv7X",
   "metadata": {
    "id": "c7R2-G80jv7X",
    "slideshow": {
     "slide_type": "slide"
    }
   },
   "source": [
    "### Strategy *1* <a class=\"anchor\" id=\"strategy1\"></a>"
   ]
  },
  {
   "cell_type": "code",
   "execution_count": 30,
   "id": "hE4jkSBxV_LN",
   "metadata": {
    "id": "hE4jkSBxV_LN",
    "slideshow": {
     "slide_type": "fragment"
    }
   },
   "outputs": [],
   "source": [
    "# We created 3 dataframes\n",
    "  # A copy of the original df, where the resulting age would be stored.\n",
    "  # A dataframe containing the mean age for every known combination of Sex, Pclass and SibSp that exists.\n",
    "  # A dataframe with every row of the original which contains a null value in the \"Age\" column.\n",
    "\n",
    "df_1 = df.copy()\n",
    "median_ages_df_1 = df_1.groupby([\"Sex\",\"Pclass\",\"SibSp\"])[\"Age\"].median().unstack()\n",
    "null_age_df = df.loc[df[\"Age\"].isnull()].copy()"
   ]
  },
  {
   "cell_type": "code",
   "execution_count": 31,
   "id": "2F4uOIwoWKd0",
   "metadata": {
    "colab": {
     "base_uri": "https://localhost:8080/",
     "height": 0
    },
    "id": "2F4uOIwoWKd0",
    "outputId": "a6cdb227-dbfa-4fad-aac6-a237db9de34c",
    "slideshow": {
     "slide_type": "slide"
    }
   },
   "outputs": [
    {
     "data": {
      "text/html": [
       "<div>\n",
       "<style scoped>\n",
       "    .dataframe tbody tr th:only-of-type {\n",
       "        vertical-align: middle;\n",
       "    }\n",
       "\n",
       "    .dataframe tbody tr th {\n",
       "        vertical-align: top;\n",
       "    }\n",
       "\n",
       "    .dataframe thead th {\n",
       "        text-align: right;\n",
       "    }\n",
       "</style>\n",
       "<table border=\"1\" class=\"dataframe\">\n",
       "  <thead>\n",
       "    <tr style=\"text-align: right;\">\n",
       "      <th></th>\n",
       "      <th>SibSp</th>\n",
       "      <th>0</th>\n",
       "      <th>1</th>\n",
       "      <th>2</th>\n",
       "      <th>3</th>\n",
       "      <th>4</th>\n",
       "      <th>5</th>\n",
       "      <th>8</th>\n",
       "    </tr>\n",
       "    <tr>\n",
       "      <th>Sex</th>\n",
       "      <th>Pclass</th>\n",
       "      <th></th>\n",
       "      <th></th>\n",
       "      <th></th>\n",
       "      <th></th>\n",
       "      <th></th>\n",
       "      <th></th>\n",
       "      <th></th>\n",
       "    </tr>\n",
       "  </thead>\n",
       "  <tbody>\n",
       "    <tr>\n",
       "      <th rowspan=\"3\" valign=\"top\">female</th>\n",
       "      <th>1</th>\n",
       "      <td>31.5</td>\n",
       "      <td>37.0</td>\n",
       "      <td>21.0</td>\n",
       "      <td>23.5</td>\n",
       "      <td>NaN</td>\n",
       "      <td>NaN</td>\n",
       "      <td>NaN</td>\n",
       "    </tr>\n",
       "    <tr>\n",
       "      <th>2</th>\n",
       "      <td>30.0</td>\n",
       "      <td>27.5</td>\n",
       "      <td>24.0</td>\n",
       "      <td>30.0</td>\n",
       "      <td>NaN</td>\n",
       "      <td>NaN</td>\n",
       "      <td>NaN</td>\n",
       "    </tr>\n",
       "    <tr>\n",
       "      <th>3</th>\n",
       "      <td>22.0</td>\n",
       "      <td>28.5</td>\n",
       "      <td>7.0</td>\n",
       "      <td>8.0</td>\n",
       "      <td>7.5</td>\n",
       "      <td>16.0</td>\n",
       "      <td>NaN</td>\n",
       "    </tr>\n",
       "    <tr>\n",
       "      <th rowspan=\"3\" valign=\"top\">male</th>\n",
       "      <th>1</th>\n",
       "      <td>40.0</td>\n",
       "      <td>38.0</td>\n",
       "      <td>47.0</td>\n",
       "      <td>19.0</td>\n",
       "      <td>NaN</td>\n",
       "      <td>NaN</td>\n",
       "      <td>NaN</td>\n",
       "    </tr>\n",
       "    <tr>\n",
       "      <th>2</th>\n",
       "      <td>30.0</td>\n",
       "      <td>31.0</td>\n",
       "      <td>23.0</td>\n",
       "      <td>NaN</td>\n",
       "      <td>NaN</td>\n",
       "      <td>NaN</td>\n",
       "      <td>NaN</td>\n",
       "    </tr>\n",
       "    <tr>\n",
       "      <th>3</th>\n",
       "      <td>27.0</td>\n",
       "      <td>25.0</td>\n",
       "      <td>27.0</td>\n",
       "      <td>4.0</td>\n",
       "      <td>5.5</td>\n",
       "      <td>10.0</td>\n",
       "      <td>NaN</td>\n",
       "    </tr>\n",
       "  </tbody>\n",
       "</table>\n",
       "</div>"
      ],
      "text/plain": [
       "SibSp             0     1     2     3    4     5   8\n",
       "Sex    Pclass                                       \n",
       "female 1       31.5  37.0  21.0  23.5  NaN   NaN NaN\n",
       "       2       30.0  27.5  24.0  30.0  NaN   NaN NaN\n",
       "       3       22.0  28.5   7.0   8.0  7.5  16.0 NaN\n",
       "male   1       40.0  38.0  47.0  19.0  NaN   NaN NaN\n",
       "       2       30.0  31.0  23.0   NaN  NaN   NaN NaN\n",
       "       3       27.0  25.0  27.0   4.0  5.5  10.0 NaN"
      ]
     },
     "execution_count": 31,
     "metadata": {},
     "output_type": "execute_result"
    }
   ],
   "source": [
    "# Taking a deep look into the median ages table, we find that, for some reason, a family of 8 embarked the titanic?\n",
    "  # And the worst thing is that these guys dont want to talk about their ages at all!\n",
    "\n",
    "median_ages_df_1"
   ]
  },
  {
   "cell_type": "code",
   "execution_count": 32,
   "id": "iaObbwN3h6e6",
   "metadata": {
    "colab": {
     "base_uri": "https://localhost:8080/",
     "height": 0
    },
    "id": "iaObbwN3h6e6",
    "outputId": "7bbc2c20-651a-4655-9b59-ed62d90d6904",
    "slideshow": {
     "slide_type": "fragment"
    }
   },
   "outputs": [
    {
     "data": {
      "text/html": [
       "<div>\n",
       "<style scoped>\n",
       "    .dataframe tbody tr th:only-of-type {\n",
       "        vertical-align: middle;\n",
       "    }\n",
       "\n",
       "    .dataframe tbody tr th {\n",
       "        vertical-align: top;\n",
       "    }\n",
       "\n",
       "    .dataframe thead th {\n",
       "        text-align: right;\n",
       "    }\n",
       "</style>\n",
       "<table border=\"1\" class=\"dataframe\">\n",
       "  <thead>\n",
       "    <tr style=\"text-align: right;\">\n",
       "      <th></th>\n",
       "      <th>SibSp</th>\n",
       "      <th>0</th>\n",
       "      <th>1</th>\n",
       "      <th>2</th>\n",
       "      <th>3</th>\n",
       "      <th>4</th>\n",
       "      <th>5</th>\n",
       "      <th>8</th>\n",
       "    </tr>\n",
       "    <tr>\n",
       "      <th>Sex</th>\n",
       "      <th>Pclass</th>\n",
       "      <th></th>\n",
       "      <th></th>\n",
       "      <th></th>\n",
       "      <th></th>\n",
       "      <th></th>\n",
       "      <th></th>\n",
       "      <th></th>\n",
       "    </tr>\n",
       "  </thead>\n",
       "  <tbody>\n",
       "    <tr>\n",
       "      <th rowspan=\"3\" valign=\"top\">female</th>\n",
       "      <th>1</th>\n",
       "      <td>31.5</td>\n",
       "      <td>37.0</td>\n",
       "      <td>21.0</td>\n",
       "      <td>23.5</td>\n",
       "      <td>NaN</td>\n",
       "      <td>NaN</td>\n",
       "      <td>NaN</td>\n",
       "    </tr>\n",
       "    <tr>\n",
       "      <th>2</th>\n",
       "      <td>30.0</td>\n",
       "      <td>27.5</td>\n",
       "      <td>24.0</td>\n",
       "      <td>30.0</td>\n",
       "      <td>NaN</td>\n",
       "      <td>NaN</td>\n",
       "      <td>NaN</td>\n",
       "    </tr>\n",
       "    <tr>\n",
       "      <th>3</th>\n",
       "      <td>22.0</td>\n",
       "      <td>28.5</td>\n",
       "      <td>7.0</td>\n",
       "      <td>8.0</td>\n",
       "      <td>7.5</td>\n",
       "      <td>16.0</td>\n",
       "      <td>16.0</td>\n",
       "    </tr>\n",
       "    <tr>\n",
       "      <th rowspan=\"3\" valign=\"top\">male</th>\n",
       "      <th>1</th>\n",
       "      <td>40.0</td>\n",
       "      <td>38.0</td>\n",
       "      <td>47.0</td>\n",
       "      <td>19.0</td>\n",
       "      <td>NaN</td>\n",
       "      <td>NaN</td>\n",
       "      <td>NaN</td>\n",
       "    </tr>\n",
       "    <tr>\n",
       "      <th>2</th>\n",
       "      <td>30.0</td>\n",
       "      <td>31.0</td>\n",
       "      <td>23.0</td>\n",
       "      <td>NaN</td>\n",
       "      <td>NaN</td>\n",
       "      <td>NaN</td>\n",
       "      <td>NaN</td>\n",
       "    </tr>\n",
       "    <tr>\n",
       "      <th>3</th>\n",
       "      <td>27.0</td>\n",
       "      <td>25.0</td>\n",
       "      <td>27.0</td>\n",
       "      <td>4.0</td>\n",
       "      <td>5.5</td>\n",
       "      <td>10.0</td>\n",
       "      <td>10.0</td>\n",
       "    </tr>\n",
       "  </tbody>\n",
       "</table>\n",
       "</div>"
      ],
      "text/plain": [
       "SibSp             0     1     2     3    4     5     8\n",
       "Sex    Pclass                                         \n",
       "female 1       31.5  37.0  21.0  23.5  NaN   NaN   NaN\n",
       "       2       30.0  27.5  24.0  30.0  NaN   NaN   NaN\n",
       "       3       22.0  28.5   7.0   8.0  7.5  16.0  16.0\n",
       "male   1       40.0  38.0  47.0  19.0  NaN   NaN   NaN\n",
       "       2       30.0  31.0  23.0   NaN  NaN   NaN   NaN\n",
       "       3       27.0  25.0  27.0   4.0  5.5  10.0  10.0"
      ]
     },
     "execution_count": 32,
     "metadata": {},
     "output_type": "execute_result"
    }
   ],
   "source": [
    "# Since we have no clue about what their age can be, we are going to use the median age for the closest family, which is the closest information that we have.\n",
    "  # Which are the families with 5 members\n",
    "\n",
    "median_ages_df_1.loc[\"female\",3][8] = median_ages_df_1.loc[\"female\",3][5]\n",
    "median_ages_df_1.loc[\"male\",3][8] = median_ages_df_1.loc[\"male\",3][5]\n",
    "median_ages_df_1\n",
    "\n",
    "# This is not the most optimal approach at all. We will see that the next one tackles the problem way better."
   ]
  },
  {
   "cell_type": "code",
   "execution_count": 33,
   "id": "_JePYwABV1Va",
   "metadata": {
    "colab": {
     "base_uri": "https://localhost:8080/"
    },
    "id": "_JePYwABV1Va",
    "outputId": "fbc733c3-14b1-4f6a-a5ad-f57ce6f20fb9",
    "slideshow": {
     "slide_type": "slide"
    }
   },
   "outputs": [],
   "source": [
    "# This block of code is a little complex, basically it is iterating through all the lines in the dataframe with missing age values.\n",
    "  # And then, it assigns the age we obtained from the median_dataframe based on the \"Sex\", \"Pclass\" and \"SibSp\" values of said row.\n",
    "\n",
    "for i in null_age_df.index:\n",
    "    for j in df_1.index:\n",
    "        if(i == j):\n",
    "            df_1[\"Age\"][i] = ((median_ages_df_1.loc[df_1[\"Sex\"][j], df_1[\"Pclass\"][j]])[df_1[\"SibSp\"][j]])"
   ]
  },
  {
   "cell_type": "code",
   "execution_count": 34,
   "id": "8aeZ3RlZWoUB",
   "metadata": {
    "colab": {
     "base_uri": "https://localhost:8080/",
     "height": 0
    },
    "id": "8aeZ3RlZWoUB",
    "outputId": "99b9773d-bed1-4617-8931-4636127b29b1",
    "slideshow": {
     "slide_type": "fragment"
    }
   },
   "outputs": [
    {
     "data": {
      "text/html": [
       "<div>\n",
       "<style scoped>\n",
       "    .dataframe tbody tr th:only-of-type {\n",
       "        vertical-align: middle;\n",
       "    }\n",
       "\n",
       "    .dataframe tbody tr th {\n",
       "        vertical-align: top;\n",
       "    }\n",
       "\n",
       "    .dataframe thead th {\n",
       "        text-align: right;\n",
       "    }\n",
       "</style>\n",
       "<table border=\"1\" class=\"dataframe\">\n",
       "  <thead>\n",
       "    <tr style=\"text-align: right;\">\n",
       "      <th></th>\n",
       "      <th>PassengerId</th>\n",
       "      <th>Survived</th>\n",
       "      <th>Pclass</th>\n",
       "      <th>Name</th>\n",
       "      <th>Sex</th>\n",
       "      <th>Age</th>\n",
       "      <th>SibSp</th>\n",
       "      <th>Parch</th>\n",
       "      <th>Ticket</th>\n",
       "      <th>Fare</th>\n",
       "      <th>Cabin</th>\n",
       "      <th>Embarked</th>\n",
       "      <th>Age Range</th>\n",
       "      <th>Known Cabin</th>\n",
       "    </tr>\n",
       "  </thead>\n",
       "  <tbody>\n",
       "  </tbody>\n",
       "</table>\n",
       "</div>"
      ],
      "text/plain": [
       "Empty DataFrame\n",
       "Columns: [PassengerId, Survived, Pclass, Name, Sex, Age, SibSp, Parch, Ticket, Fare, Cabin, Embarked, Age Range, Known Cabin]\n",
       "Index: []"
      ]
     },
     "metadata": {},
     "output_type": "display_data"
    }
   ],
   "source": [
    "# Here, we are able to check:\n",
    "  # if there are any null values in the dataframe\n",
    "  # The descriptive statistics of the new dataframe\n",
    "  # The descriptive statistics of the main dataframe (the one with nulls)\n",
    "\n",
    "display(df_1.loc[df_1[\"Age\"].isnull()])\n"
   ]
  },
  {
   "cell_type": "code",
   "execution_count": 35,
   "id": "a0d98de6",
   "metadata": {
    "slideshow": {
     "slide_type": "slide"
    }
   },
   "outputs": [
    {
     "name": "stdout",
     "output_type": "stream",
     "text": [
      "\n"
     ]
    },
    {
     "data": {
      "text/plain": [
       "count    891.000000\n",
       "mean      29.217363\n",
       "std       13.399848\n",
       "min        0.420000\n",
       "25%       22.000000\n",
       "50%       27.000000\n",
       "75%       36.000000\n",
       "max       80.000000\n",
       "Name: Age, dtype: float64"
      ]
     },
     "metadata": {},
     "output_type": "display_data"
    },
    {
     "name": "stdout",
     "output_type": "stream",
     "text": [
      "\n"
     ]
    },
    {
     "data": {
      "text/plain": [
       "count    714.000000\n",
       "mean      29.699118\n",
       "std       14.526497\n",
       "min        0.420000\n",
       "25%       20.125000\n",
       "50%       28.000000\n",
       "75%       38.000000\n",
       "max       80.000000\n",
       "Name: Age, dtype: float64"
      ]
     },
     "metadata": {},
     "output_type": "display_data"
    }
   ],
   "source": [
    "print(\"\")\n",
    "display(df_1[\"Age\"].describe())\n",
    "print(\"\")\n",
    "display(df[\"Age\"].describe())"
   ]
  },
  {
   "cell_type": "markdown",
   "id": "JPd0bv-SRVr9",
   "metadata": {
    "id": "JPd0bv-SRVr9"
   },
   "source": [
    "-----------------------------------------------"
   ]
  },
  {
   "cell_type": "markdown",
   "id": "ddzvMSg8jrsX",
   "metadata": {
    "id": "ddzvMSg8jrsX",
    "slideshow": {
     "slide_type": "slide"
    }
   },
   "source": [
    "### Strategy *2* <a class=\"anchor\" id=\"strategy2\"></a>"
   ]
  },
  {
   "cell_type": "markdown",
   "id": "P5BYNA7ciq7t",
   "metadata": {
    "id": "P5BYNA7ciq7t",
    "slideshow": {
     "slide_type": "fragment"
    }
   },
   "source": [
    "For this second approach, another cool thing to try is to find the median age based on the passenger sex, if they have any family member onboard and their title.\n",
    "\n",
    "Some titles are more common for certain age ranges, so it seems like an interesting insight we can use."
   ]
  },
  {
   "cell_type": "code",
   "execution_count": 36,
   "id": "t0xzo-81XQE2",
   "metadata": {
    "colab": {
     "base_uri": "https://localhost:8080/",
     "height": 0
    },
    "id": "t0xzo-81XQE2",
    "outputId": "ac238a9b-b1e7-4980-f345-159714c2e3e8",
    "slideshow": {
     "slide_type": "slide"
    }
   },
   "outputs": [
    {
     "data": {
      "text/html": [
       "<div>\n",
       "<style scoped>\n",
       "    .dataframe tbody tr th:only-of-type {\n",
       "        vertical-align: middle;\n",
       "    }\n",
       "\n",
       "    .dataframe tbody tr th {\n",
       "        vertical-align: top;\n",
       "    }\n",
       "\n",
       "    .dataframe thead th {\n",
       "        text-align: right;\n",
       "    }\n",
       "</style>\n",
       "<table border=\"1\" class=\"dataframe\">\n",
       "  <thead>\n",
       "    <tr style=\"text-align: right;\">\n",
       "      <th>title</th>\n",
       "      <th>Capt</th>\n",
       "      <th>Col</th>\n",
       "      <th>Don</th>\n",
       "      <th>Dr</th>\n",
       "      <th>Jonkheer</th>\n",
       "      <th>Lady</th>\n",
       "      <th>Major</th>\n",
       "      <th>Master</th>\n",
       "      <th>Miss</th>\n",
       "      <th>Mlle</th>\n",
       "      <th>Mme</th>\n",
       "      <th>Mr</th>\n",
       "      <th>Mrs</th>\n",
       "      <th>Ms</th>\n",
       "      <th>Rev</th>\n",
       "      <th>Sir</th>\n",
       "      <th>the Countess</th>\n",
       "    </tr>\n",
       "    <tr>\n",
       "      <th>Sex</th>\n",
       "      <th></th>\n",
       "      <th></th>\n",
       "      <th></th>\n",
       "      <th></th>\n",
       "      <th></th>\n",
       "      <th></th>\n",
       "      <th></th>\n",
       "      <th></th>\n",
       "      <th></th>\n",
       "      <th></th>\n",
       "      <th></th>\n",
       "      <th></th>\n",
       "      <th></th>\n",
       "      <th></th>\n",
       "      <th></th>\n",
       "      <th></th>\n",
       "      <th></th>\n",
       "    </tr>\n",
       "  </thead>\n",
       "  <tbody>\n",
       "    <tr>\n",
       "      <th>female</th>\n",
       "      <td>NaN</td>\n",
       "      <td>NaN</td>\n",
       "      <td>NaN</td>\n",
       "      <td>49.0</td>\n",
       "      <td>NaN</td>\n",
       "      <td>48.0</td>\n",
       "      <td>NaN</td>\n",
       "      <td>NaN</td>\n",
       "      <td>21.0</td>\n",
       "      <td>24.0</td>\n",
       "      <td>24.0</td>\n",
       "      <td>NaN</td>\n",
       "      <td>35.0</td>\n",
       "      <td>28.0</td>\n",
       "      <td>NaN</td>\n",
       "      <td>NaN</td>\n",
       "      <td>33.0</td>\n",
       "    </tr>\n",
       "    <tr>\n",
       "      <th>male</th>\n",
       "      <td>70.0</td>\n",
       "      <td>58.0</td>\n",
       "      <td>40.0</td>\n",
       "      <td>44.0</td>\n",
       "      <td>38.0</td>\n",
       "      <td>NaN</td>\n",
       "      <td>48.5</td>\n",
       "      <td>3.5</td>\n",
       "      <td>NaN</td>\n",
       "      <td>NaN</td>\n",
       "      <td>NaN</td>\n",
       "      <td>30.0</td>\n",
       "      <td>NaN</td>\n",
       "      <td>NaN</td>\n",
       "      <td>46.5</td>\n",
       "      <td>49.0</td>\n",
       "      <td>NaN</td>\n",
       "    </tr>\n",
       "  </tbody>\n",
       "</table>\n",
       "</div>"
      ],
      "text/plain": [
       "title   Capt   Col   Don    Dr  Jonkheer  Lady  Major  Master  Miss  Mlle  \\\n",
       "Sex                                                                         \n",
       "female   NaN   NaN   NaN  49.0       NaN  48.0    NaN     NaN  21.0  24.0   \n",
       "male    70.0  58.0  40.0  44.0      38.0   NaN   48.5     3.5   NaN   NaN   \n",
       "\n",
       "title    Mme    Mr   Mrs    Ms   Rev   Sir  the Countess  \n",
       "Sex                                                       \n",
       "female  24.0   NaN  35.0  28.0   NaN   NaN          33.0  \n",
       "male     NaN  30.0   NaN   NaN  46.5  49.0           NaN  "
      ]
     },
     "execution_count": 36,
     "metadata": {},
     "output_type": "execute_result"
    }
   ],
   "source": [
    "# We start by reviewing the title each passenger have, for this we create a new column \"title\". \n",
    "  # We also create a boolean column which displays true or false depending if the passenger has any family member on board.\n",
    "\n",
    "df[\"Family\"] = (df[\"SibSp\"]>0) & (df[\"Parch\"]>0)\n",
    "df[\"title\"] = df[\"Name\"].str.split(\".\").str[0]\n",
    "\n",
    "df.groupby([\"Sex\",\"title\"])[\"Age\"].median().unstack()"
   ]
  },
  {
   "cell_type": "code",
   "execution_count": 37,
   "id": "o5Kz6PWeLAIe",
   "metadata": {
    "id": "o5Kz6PWeLAIe",
    "slideshow": {
     "slide_type": "fragment"
    }
   },
   "outputs": [
    {
     "data": {
      "text/html": [
       "<div>\n",
       "<style scoped>\n",
       "    .dataframe tbody tr th:only-of-type {\n",
       "        vertical-align: middle;\n",
       "    }\n",
       "\n",
       "    .dataframe tbody tr th {\n",
       "        vertical-align: top;\n",
       "    }\n",
       "\n",
       "    .dataframe thead th {\n",
       "        text-align: right;\n",
       "    }\n",
       "</style>\n",
       "<table border=\"1\" class=\"dataframe\">\n",
       "  <thead>\n",
       "    <tr style=\"text-align: right;\">\n",
       "      <th></th>\n",
       "      <th>title</th>\n",
       "      <th>Capt</th>\n",
       "      <th>Col</th>\n",
       "      <th>Don</th>\n",
       "      <th>Dr</th>\n",
       "      <th>Jonkheer</th>\n",
       "      <th>Lady</th>\n",
       "      <th>Major</th>\n",
       "      <th>Master</th>\n",
       "      <th>Miss</th>\n",
       "      <th>Mlle</th>\n",
       "      <th>Mme</th>\n",
       "      <th>Mr</th>\n",
       "      <th>Mrs</th>\n",
       "      <th>Ms</th>\n",
       "      <th>Rev</th>\n",
       "      <th>Sir</th>\n",
       "      <th>the Countess</th>\n",
       "    </tr>\n",
       "    <tr>\n",
       "      <th>Sex</th>\n",
       "      <th>Family</th>\n",
       "      <th></th>\n",
       "      <th></th>\n",
       "      <th></th>\n",
       "      <th></th>\n",
       "      <th></th>\n",
       "      <th></th>\n",
       "      <th></th>\n",
       "      <th></th>\n",
       "      <th></th>\n",
       "      <th></th>\n",
       "      <th></th>\n",
       "      <th></th>\n",
       "      <th></th>\n",
       "      <th></th>\n",
       "      <th></th>\n",
       "      <th></th>\n",
       "      <th></th>\n",
       "    </tr>\n",
       "  </thead>\n",
       "  <tbody>\n",
       "    <tr>\n",
       "      <th rowspan=\"2\" valign=\"top\">female</th>\n",
       "      <th>False</th>\n",
       "      <td>NaN</td>\n",
       "      <td>NaN</td>\n",
       "      <td>NaN</td>\n",
       "      <td>49.0</td>\n",
       "      <td>NaN</td>\n",
       "      <td>48.0</td>\n",
       "      <td>NaN</td>\n",
       "      <td>NaN</td>\n",
       "      <td>23.0</td>\n",
       "      <td>24.0</td>\n",
       "      <td>24.0</td>\n",
       "      <td>NaN</td>\n",
       "      <td>35.0</td>\n",
       "      <td>28.0</td>\n",
       "      <td>NaN</td>\n",
       "      <td>NaN</td>\n",
       "      <td>33.0</td>\n",
       "    </tr>\n",
       "    <tr>\n",
       "      <th>True</th>\n",
       "      <td>NaN</td>\n",
       "      <td>NaN</td>\n",
       "      <td>NaN</td>\n",
       "      <td>NaN</td>\n",
       "      <td>NaN</td>\n",
       "      <td>NaN</td>\n",
       "      <td>NaN</td>\n",
       "      <td>NaN</td>\n",
       "      <td>8.0</td>\n",
       "      <td>NaN</td>\n",
       "      <td>NaN</td>\n",
       "      <td>NaN</td>\n",
       "      <td>36.0</td>\n",
       "      <td>NaN</td>\n",
       "      <td>NaN</td>\n",
       "      <td>NaN</td>\n",
       "      <td>NaN</td>\n",
       "    </tr>\n",
       "    <tr>\n",
       "      <th rowspan=\"2\" valign=\"top\">male</th>\n",
       "      <th>False</th>\n",
       "      <td>NaN</td>\n",
       "      <td>58.0</td>\n",
       "      <td>40.0</td>\n",
       "      <td>44.0</td>\n",
       "      <td>38.0</td>\n",
       "      <td>NaN</td>\n",
       "      <td>48.5</td>\n",
       "      <td>4.0</td>\n",
       "      <td>NaN</td>\n",
       "      <td>NaN</td>\n",
       "      <td>NaN</td>\n",
       "      <td>29.5</td>\n",
       "      <td>NaN</td>\n",
       "      <td>NaN</td>\n",
       "      <td>46.5</td>\n",
       "      <td>49.0</td>\n",
       "      <td>NaN</td>\n",
       "    </tr>\n",
       "    <tr>\n",
       "      <th>True</th>\n",
       "      <td>70.0</td>\n",
       "      <td>NaN</td>\n",
       "      <td>NaN</td>\n",
       "      <td>NaN</td>\n",
       "      <td>NaN</td>\n",
       "      <td>NaN</td>\n",
       "      <td>NaN</td>\n",
       "      <td>3.0</td>\n",
       "      <td>NaN</td>\n",
       "      <td>NaN</td>\n",
       "      <td>NaN</td>\n",
       "      <td>31.0</td>\n",
       "      <td>NaN</td>\n",
       "      <td>NaN</td>\n",
       "      <td>NaN</td>\n",
       "      <td>NaN</td>\n",
       "      <td>NaN</td>\n",
       "    </tr>\n",
       "  </tbody>\n",
       "</table>\n",
       "</div>"
      ],
      "text/plain": [
       "title          Capt   Col   Don    Dr  Jonkheer  Lady  Major  Master  Miss  \\\n",
       "Sex    Family                                                                \n",
       "female False    NaN   NaN   NaN  49.0       NaN  48.0    NaN     NaN  23.0   \n",
       "       True     NaN   NaN   NaN   NaN       NaN   NaN    NaN     NaN   8.0   \n",
       "male   False    NaN  58.0  40.0  44.0      38.0   NaN   48.5     4.0   NaN   \n",
       "       True    70.0   NaN   NaN   NaN       NaN   NaN    NaN     3.0   NaN   \n",
       "\n",
       "title          Mlle   Mme    Mr   Mrs    Ms   Rev   Sir  the Countess  \n",
       "Sex    Family                                                          \n",
       "female False   24.0  24.0   NaN  35.0  28.0   NaN   NaN          33.0  \n",
       "       True     NaN   NaN   NaN  36.0   NaN   NaN   NaN           NaN  \n",
       "male   False    NaN   NaN  29.5   NaN   NaN  46.5  49.0           NaN  \n",
       "       True     NaN   NaN  31.0   NaN   NaN   NaN   NaN           NaN  "
      ]
     },
     "execution_count": 37,
     "metadata": {},
     "output_type": "execute_result"
    }
   ],
   "source": [
    "# The second test dataframe is created, plus the new one with the median ages that we need.\n",
    "\n",
    "df_2 = df.copy()\n",
    "median_ages_df2 = df.groupby([\"Sex\",\"Family\",\"title\"])[\"Age\"].median().unstack()\n",
    "median_ages_df2"
   ]
  },
  {
   "cell_type": "code",
   "execution_count": 38,
   "id": "3v04df17MIpE",
   "metadata": {
    "colab": {
     "base_uri": "https://localhost:8080/"
    },
    "id": "3v04df17MIpE",
    "outputId": "bf5d0af9-d408-45c4-d356-4302810055be",
    "slideshow": {
     "slide_type": "fragment"
    }
   },
   "outputs": [],
   "source": [
    "# Same difficult block of code, just changing the variables used.\n",
    "\n",
    "for i in null_age_df.index:\n",
    "    for j in df_2.index:\n",
    "        if(i == j):\n",
    "            df_2[\"Age\"][i] = ((median_ages_df2.loc[df_2[\"Sex\"][j], df_2[\"Family\"][j]])[df_2[\"title\"][j]])"
   ]
  },
  {
   "cell_type": "code",
   "execution_count": 39,
   "id": "eYdfuTVVjlJi",
   "metadata": {
    "colab": {
     "base_uri": "https://localhost:8080/",
     "height": 0
    },
    "id": "eYdfuTVVjlJi",
    "outputId": "2346aebf-15b4-4363-d191-169e36657103",
    "slideshow": {
     "slide_type": "slide"
    }
   },
   "outputs": [
    {
     "data": {
      "text/html": [
       "<div>\n",
       "<style scoped>\n",
       "    .dataframe tbody tr th:only-of-type {\n",
       "        vertical-align: middle;\n",
       "    }\n",
       "\n",
       "    .dataframe tbody tr th {\n",
       "        vertical-align: top;\n",
       "    }\n",
       "\n",
       "    .dataframe thead th {\n",
       "        text-align: right;\n",
       "    }\n",
       "</style>\n",
       "<table border=\"1\" class=\"dataframe\">\n",
       "  <thead>\n",
       "    <tr style=\"text-align: right;\">\n",
       "      <th></th>\n",
       "      <th>PassengerId</th>\n",
       "      <th>Survived</th>\n",
       "      <th>Pclass</th>\n",
       "      <th>Name</th>\n",
       "      <th>Sex</th>\n",
       "      <th>Age</th>\n",
       "      <th>SibSp</th>\n",
       "      <th>Parch</th>\n",
       "      <th>Ticket</th>\n",
       "      <th>Fare</th>\n",
       "      <th>Cabin</th>\n",
       "      <th>Embarked</th>\n",
       "      <th>Age Range</th>\n",
       "      <th>Known Cabin</th>\n",
       "      <th>Family</th>\n",
       "      <th>title</th>\n",
       "    </tr>\n",
       "  </thead>\n",
       "  <tbody>\n",
       "  </tbody>\n",
       "</table>\n",
       "</div>"
      ],
      "text/plain": [
       "Empty DataFrame\n",
       "Columns: [PassengerId, Survived, Pclass, Name, Sex, Age, SibSp, Parch, Ticket, Fare, Cabin, Embarked, Age Range, Known Cabin, Family, title]\n",
       "Index: []"
      ]
     },
     "metadata": {},
     "output_type": "display_data"
    }
   ],
   "source": [
    "# Here, we are able to check:\n",
    "  # if there are any null values in the dataframe\n",
    "  # The descriptive statistics of the new dataframe\n",
    "  # The descriptive statistics of the main dataframe (the one with nulls)\n",
    "\n",
    "display(df_2.loc[df_2[\"Age\"].isnull()])"
   ]
  },
  {
   "cell_type": "code",
   "execution_count": 40,
   "id": "a23e6300",
   "metadata": {
    "slideshow": {
     "slide_type": "slide"
    }
   },
   "outputs": [
    {
     "name": "stdout",
     "output_type": "stream",
     "text": [
      "\n"
     ]
    },
    {
     "data": {
      "text/plain": [
       "count    891.000000\n",
       "mean      29.271235\n",
       "std       13.360255\n",
       "min        0.420000\n",
       "25%       22.000000\n",
       "50%       29.500000\n",
       "75%       35.000000\n",
       "max       80.000000\n",
       "Name: Age, dtype: float64"
      ]
     },
     "metadata": {},
     "output_type": "display_data"
    },
    {
     "name": "stdout",
     "output_type": "stream",
     "text": [
      "\n"
     ]
    },
    {
     "data": {
      "text/plain": [
       "count    714.000000\n",
       "mean      29.699118\n",
       "std       14.526497\n",
       "min        0.420000\n",
       "25%       20.125000\n",
       "50%       28.000000\n",
       "75%       38.000000\n",
       "max       80.000000\n",
       "Name: Age, dtype: float64"
      ]
     },
     "metadata": {},
     "output_type": "display_data"
    }
   ],
   "source": [
    "print(\"\")\n",
    "display(df_2[\"Age\"].describe())\n",
    "print(\"\")\n",
    "display(df[\"Age\"].describe())"
   ]
  },
  {
   "cell_type": "code",
   "execution_count": null,
   "id": "b7fddbe0",
   "metadata": {},
   "outputs": [],
   "source": []
  }
 ],
 "metadata": {
  "accelerator": "GPU",
  "celltoolbar": "Slideshow",
  "colab": {
   "provenance": []
  },
  "gpuClass": "standard",
  "kernelspec": {
   "display_name": "Python 3 (ipykernel)",
   "language": "python",
   "name": "python3"
  },
  "language_info": {
   "codemirror_mode": {
    "name": "ipython",
    "version": 3
   },
   "file_extension": ".py",
   "mimetype": "text/x-python",
   "name": "python",
   "nbconvert_exporter": "python",
   "pygments_lexer": "ipython3",
   "version": "3.10.8"
  }
 },
 "nbformat": 4,
 "nbformat_minor": 5
}
